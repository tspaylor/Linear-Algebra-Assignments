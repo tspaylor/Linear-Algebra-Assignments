{
 "cells": [
  {
   "cell_type": "markdown",
   "metadata": {},
   "source": [
    "Writing/Technology Assignment One"
   ]
  },
  {
   "cell_type": "markdown",
   "metadata": {},
   "source": [
    "Exploring Matrix Multiplication"
   ]
  },
  {
   "cell_type": "markdown",
   "metadata": {},
   "source": [
    "MATH 254 – Linear Algebra"
   ]
  },
  {
   "cell_type": "markdown",
   "metadata": {},
   "source": [
    "Timothy Paylor"
   ]
  },
  {
   "cell_type": "markdown",
   "metadata": {},
   "source": [
    "The table [below] shows the first two test scores for Anna, Bruce, Chris, and David. Use the\n",
    "table to create a matrix M to represent the data. Input M into a software program or\n",
    "a graphing utility and use it to answer the following questions."
   ]
  },
  {
   "cell_type": "markdown",
   "metadata": {},
   "source": [
    "| Name | Test 1 | Test 2 |\n",
    "| --- | --- | --- |\n",
    "| Anna | 84 | 96 |\n",
    "| Bruce | 56 | 72 |\n",
    "| Chris | 78 | 83 |\n",
    "| David | 82 | 91 |"
   ]
  },
  {
   "cell_type": "code",
   "execution_count": 110,
   "metadata": {},
   "outputs": [
    {
     "data": {
      "text/plain": [
       "matrix([[84, 96],\n",
       "        [56, 72],\n",
       "        [78, 83],\n",
       "        [82, 91]])"
      ]
     },
     "execution_count": 110,
     "metadata": {},
     "output_type": "execute_result"
    }
   ],
   "source": [
    "# Defining M as above matrix\n",
    "\n",
    "import numpy as np\n",
    "\n",
    "M = np.matrix([[84, 96], \n",
    "     [56, 72], \n",
    "     [78, 83], \n",
    "     [82, 91]])\n",
    "M"
   ]
  },
  {
   "cell_type": "markdown",
   "metadata": {},
   "source": [
    "1. Which test was more difficult? Which was easier? Explain."
   ]
  },
  {
   "cell_type": "markdown",
   "metadata": {},
   "source": [
    "Based on the scores each student received on the two tests, it is likely that the first test was more difficult since all four students received a lower grade compared to the grades they received on the second test."
   ]
  },
  {
   "cell_type": "markdown",
   "metadata": {},
   "source": [
    "2. How would you rank the performances of the four students?"
   ]
  },
  {
   "cell_type": "markdown",
   "metadata": {},
   "source": [
    "The ranking of the students is consistent across both tests with Anna receiving the highest scores, followed by David then Chris then Bruce."
   ]
  },
  {
   "cell_type": "markdown",
   "metadata": {},
   "source": [
    "3. Describe the meanings of the matrix products:\n",
    "\n",
    "M * [[1], [0]] and M * [[0], [1]]"
   ]
  },
  {
   "cell_type": "code",
   "execution_count": 109,
   "metadata": {},
   "outputs": [
    {
     "name": "stdout",
     "output_type": "stream",
     "text": [
      "[[84  0]\n",
      " [56  0]\n",
      " [78  0]\n",
      " [82  0]]\n"
     ]
    }
   ],
   "source": [
    "# For M*[[1], [0]]\n",
    "\n",
    "m = np.matrix([[1, 0]])\n",
    "print (np.multiply(M,m))"
   ]
  },
  {
   "cell_type": "markdown",
   "metadata": {},
   "source": [
    "M * [[1], [0]] gives us the Test 1 scores and zeroes out the Test 2 scores."
   ]
  },
  {
   "cell_type": "code",
   "execution_count": 108,
   "metadata": {},
   "outputs": [
    {
     "name": "stdout",
     "output_type": "stream",
     "text": [
      "[[ 0 96]\n",
      " [ 0 72]\n",
      " [ 0 83]\n",
      " [ 0 91]]\n"
     ]
    }
   ],
   "source": [
    "# For M*[[0], [1]]\n",
    "\n",
    "m = np.matrix([[0, 1]])\n",
    "print (np.multiply(M,m))"
   ]
  },
  {
   "cell_type": "markdown",
   "metadata": {},
   "source": [
    "M[[0], [1]] gives us the Test 2 scores and zeroes out the Test 1 scores."
   ]
  },
  {
   "cell_type": "markdown",
   "metadata": {},
   "source": [
    "4. Describe the meanings of the matrix products:\n",
    "\n",
    "<br>\n",
    "[[1], [0], [0], [0]] * M and [[0], [0], [1], [0]] * M"
   ]
  },
  {
   "cell_type": "code",
   "execution_count": 106,
   "metadata": {},
   "outputs": [
    {
     "name": "stdout",
     "output_type": "stream",
     "text": [
      "[[84 96]\n",
      " [ 0  0]\n",
      " [ 0  0]\n",
      " [ 0  0]]\n"
     ]
    }
   ],
   "source": [
    "# For [[1], [0], [0], [0]]*M\n",
    "\n",
    "m = np.matrix([[1], [0], [0], [0]])\n",
    "print (np.multiply(M,m))"
   ]
  },
  {
   "cell_type": "markdown",
   "metadata": {},
   "source": [
    "The operation [[1], [0], [0], [0]] * M gives us only Anna's scores on both Test 1 and Test 2."
   ]
  },
  {
   "cell_type": "code",
   "execution_count": 105,
   "metadata": {},
   "outputs": [
    {
     "name": "stdout",
     "output_type": "stream",
     "text": [
      "[[ 0  0]\n",
      " [ 0  0]\n",
      " [78 83]\n",
      " [ 0  0]]\n"
     ]
    }
   ],
   "source": [
    "# For [[0], [0], [1], [0]]*M\n",
    "\n",
    "m = np.matrix([[0], [0], [1], [0]])\n",
    "print (np.multiply(m,M))"
   ]
  },
  {
   "cell_type": "markdown",
   "metadata": {},
   "source": [
    "The operation [[0], [0], [1], [0]] * M gives us only Chris' scores on both Test 1 and Test 2."
   ]
  },
  {
   "cell_type": "markdown",
   "metadata": {},
   "source": [
    "5. Describe the meanings of the matrix products:\n",
    "\n",
    "'M * [[1, 1]]'    and    '(0.5) * M * [[1, 1]]'"
   ]
  },
  {
   "cell_type": "code",
   "execution_count": 104,
   "metadata": {},
   "outputs": [
    {
     "name": "stdout",
     "output_type": "stream",
     "text": [
      "[[84 96]\n",
      " [56 72]\n",
      " [78 83]\n",
      " [82 91]]\n"
     ]
    }
   ],
   "source": [
    "# 'M * [[1, 1]]'\n",
    "\n",
    "m = np.matrix([[1, 1]])\n",
    "print (np.multiply(M,m))"
   ]
  },
  {
   "cell_type": "markdown",
   "metadata": {},
   "source": [
    "'M * [[1, 1]]' returns the test scores for all four students for both tests."
   ]
  },
  {
   "cell_type": "code",
   "execution_count": 103,
   "metadata": {},
   "outputs": [
    {
     "name": "stdout",
     "output_type": "stream",
     "text": [
      "[[42.  48. ]\n",
      " [28.  36. ]\n",
      " [39.  41.5]\n",
      " [41.  45.5]]\n"
     ]
    }
   ],
   "source": [
    "# '(0.5) * M * [[1, 1]]'\n",
    "\n",
    "A = np.squeeze(np.asarray(M))\n",
    "half_A = 0.5 * A\n",
    "\n",
    "m = np.matrix([[1, 1]])\n",
    "print (np.multiply(half_A,m))"
   ]
  },
  {
   "cell_type": "markdown",
   "metadata": {},
   "source": [
    "'(0.5) * M * [[1, 1]]' returns values that are half of all of the students' test scores for both tests."
   ]
  },
  {
   "cell_type": "code",
   "execution_count": null,
   "metadata": {},
   "outputs": [],
   "source": []
  }
 ],
 "metadata": {
  "kernelspec": {
   "display_name": "Python 3",
   "language": "python",
   "name": "python3"
  },
  "language_info": {
   "codemirror_mode": {
    "name": "ipython",
    "version": 3
   },
   "file_extension": ".py",
   "mimetype": "text/x-python",
   "name": "python",
   "nbconvert_exporter": "python",
   "pygments_lexer": "ipython3",
   "version": "3.8.5"
  }
 },
 "nbformat": 4,
 "nbformat_minor": 4
}
