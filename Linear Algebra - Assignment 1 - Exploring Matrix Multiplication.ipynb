{
 "cells": [
  {
   "cell_type": "markdown",
   "metadata": {},
   "source": [
    "## Writing/Technology Assignment One"
   ]
  },
  {
   "cell_type": "markdown",
   "metadata": {},
   "source": [
    "### Exploring Matrix Multiplication"
   ]
  },
  {
   "cell_type": "markdown",
   "metadata": {},
   "source": [
    "##### MATH 254 – Linear Algebra"
   ]
  },
  {
   "cell_type": "markdown",
   "metadata": {},
   "source": [
    "##### Timothy Paylor"
   ]
  },
  {
   "cell_type": "markdown",
   "metadata": {},
   "source": [
    "------------------------------\n",
    "<br>\n",
    "\n",
    "***Assignment Intrsuctions:***\n",
    "\n",
    "<br>\n",
    "\n",
    "***The table [below] shows the first two test scores for Anna, Bruce, Chris, and David. Use the\n",
    "table to create a matrix M to represent the data. Input M into a software program or\n",
    "a graphing utility and use it to answer the following questions.$^{1}$***"
   ]
  },
  {
   "cell_type": "markdown",
   "metadata": {},
   "source": [
    "| Name  | Test 1 | Test 2 |\n",
    "| ----- | ------ | ------ |\n",
    "| Anna  | 84     | 96     |\n",
    "| Bruce | 56     | 72     |\n",
    "| Chris | 78     | 83     |\n",
    "| David | 82     | 91     |"
   ]
  },
  {
   "cell_type": "code",
   "execution_count": 1,
   "metadata": {},
   "outputs": [
    {
     "name": "stdout",
     "output_type": "stream",
     "text": [
      "[[84 96]\n",
      " [56 72]\n",
      " [78 83]\n",
      " [82 91]]\n"
     ]
    }
   ],
   "source": [
    "# Defining above table as matrix M\n",
    "\n",
    "import numpy as np\n",
    "\n",
    "M = np.array([[84, 96], \n",
    "              [56, 72], \n",
    "              [78, 83], \n",
    "              [82, 91]])\n",
    "\n",
    "print(M)"
   ]
  },
  {
   "cell_type": "markdown",
   "metadata": {},
   "source": [
    "***1. Which test was more difficult? Which was easier? Explain.$^{1}$***"
   ]
  },
  {
   "cell_type": "markdown",
   "metadata": {},
   "source": [
    ">*Answer:*\n",
    "<br>\n",
    ">Test 1 appears to have been more difficult because the average score on Test 1 was 75 and the average score on Test 2 was 85.5. Additionaly, each student individually got a higher score on Test 2 than Test 1."
   ]
  },
  {
   "cell_type": "markdown",
   "metadata": {},
   "source": [
    "***2. How would you rank the performances of the four students?$^{1}$***"
   ]
  },
  {
   "cell_type": "markdown",
   "metadata": {},
   "source": [
    ">*Answer:*\n",
    "<br>\n",
    ">The ranking of the students is consistent across both tests with Anna receiving the highest scores, followed by David then Chris then Bruce. Anna's average score across both tests was 90, David's was 86.5, Chris's was 80.5, and Bruce had an average score of 64."
   ]
  },
  {
   "cell_type": "markdown",
   "metadata": {},
   "source": [
    "***3. Describe the meanings of the matrix products M*[[1], [0]] and M*[[0], [1]].$^{1}$***"
   ]
  },
  {
   "cell_type": "code",
   "execution_count": 2,
   "metadata": {},
   "outputs": [
    {
     "name": "stdout",
     "output_type": "stream",
     "text": [
      "[[84]\n",
      " [56]\n",
      " [78]\n",
      " [82]]\n"
     ]
    }
   ],
   "source": [
    "# For M * [[1], [0]]\n",
    "\n",
    "m = np.array([[1], \n",
    "              [0]])\n",
    "\n",
    "A = M.dot(m)\n",
    "\n",
    "print (A)"
   ]
  },
  {
   "cell_type": "markdown",
   "metadata": {},
   "source": [
    ">*Answer:*\n",
    "<br>\n",
    ">M[[1], [0]] gives us the Test 1 scores for all four students."
   ]
  },
  {
   "cell_type": "code",
   "execution_count": 3,
   "metadata": {},
   "outputs": [
    {
     "name": "stdout",
     "output_type": "stream",
     "text": [
      "[[96]\n",
      " [72]\n",
      " [83]\n",
      " [91]]\n"
     ]
    }
   ],
   "source": [
    "# For M * [[0], [1]]\n",
    "\n",
    "m = np.array([[0], \n",
    "              [1]])\n",
    "\n",
    "A = M.dot(m)\n",
    "\n",
    "print (A)"
   ]
  },
  {
   "cell_type": "markdown",
   "metadata": {},
   "source": [
    ">*Answer:*\n",
    "<br>\n",
    ">M[[0], [1]] gives us the Test 2 scores for all four students."
   ]
  },
  {
   "cell_type": "markdown",
   "metadata": {},
   "source": [
    "***4. Describe the meanings of the matrix products [1, 0, 0, 0]*M and [0, 0, 1, 0]*M.$^{1}$***"
   ]
  },
  {
   "cell_type": "code",
   "execution_count": 4,
   "metadata": {},
   "outputs": [
    {
     "name": "stdout",
     "output_type": "stream",
     "text": [
      "[84 96]\n"
     ]
    }
   ],
   "source": [
    "# For [1, 0, 0, 0] * M\n",
    "\n",
    "m = np.array([1, 0, 0, 0])\n",
    "\n",
    "A = m.dot(M)\n",
    "\n",
    "print (A)"
   ]
  },
  {
   "cell_type": "markdown",
   "metadata": {},
   "source": [
    ">*Answer:*\n",
    "<br>\n",
    ">[1, 0, 0, 0]M gives us Anna's scores on both Test 1 and Test 2."
   ]
  },
  {
   "cell_type": "code",
   "execution_count": 5,
   "metadata": {},
   "outputs": [
    {
     "name": "stdout",
     "output_type": "stream",
     "text": [
      "[[78 83]]\n"
     ]
    }
   ],
   "source": [
    "# For [0, 0, 1, 0] * M\n",
    "\n",
    "m = np.matrix([0, 0, 1, 0])\n",
    "\n",
    "A = m.dot(M)\n",
    "\n",
    "print (A)"
   ]
  },
  {
   "cell_type": "markdown",
   "metadata": {},
   "source": [
    ">*Answer:*\n",
    "<br>\n",
    ">[0, 0, 1, 0]M gives us Chris' scores on both Test 1 and Test 2."
   ]
  },
  {
   "cell_type": "markdown",
   "metadata": {},
   "source": [
    "***5. Describe the meanings of the matrix products M*[[1], [1]] and (0.5)*M*[[1], [1]].$^{1}$***"
   ]
  },
  {
   "cell_type": "code",
   "execution_count": 6,
   "metadata": {},
   "outputs": [
    {
     "name": "stdout",
     "output_type": "stream",
     "text": [
      "[[180]\n",
      " [128]\n",
      " [161]\n",
      " [173]]\n"
     ]
    }
   ],
   "source": [
    "# For M * [[1], [1]]\n",
    "\n",
    "m = np.array([[1], \n",
    "              [1]])\n",
    "\n",
    "A = M.dot(m)\n",
    "\n",
    "print (A)"
   ]
  },
  {
   "cell_type": "markdown",
   "metadata": {},
   "source": [
    ">*Answer:*\n",
    "<br>\n",
    ">M[[1], [1]] returns each student's combined scores from both tests."
   ]
  },
  {
   "cell_type": "code",
   "execution_count": 7,
   "metadata": {},
   "outputs": [
    {
     "name": "stdout",
     "output_type": "stream",
     "text": [
      "[[90. ]\n",
      " [64. ]\n",
      " [80.5]\n",
      " [86.5]]\n"
     ]
    }
   ],
   "source": [
    "# For 0.5 * M * [[1], [1]]\n",
    "\n",
    "scaled_M = 0.5 * M\n",
    "\n",
    "m = np.matrix([[1], \n",
    "               [1]])\n",
    "\n",
    "A = scaled_M.dot(m)\n",
    "\n",
    "print (A)"
   ]
  },
  {
   "cell_type": "markdown",
   "metadata": {},
   "source": [
    ">*Answer:*\n",
    "<br>\n",
    ">0.5M[[1], [1]] gives each student's average score across both tests."
   ]
  },
  {
   "cell_type": "markdown",
   "metadata": {},
   "source": [
    "***6. Describe the meanings of the matrix products [1, 1, 1, 1]M and 0.25[1, 1, 1, 1]M.$^{1}$***"
   ]
  },
  {
   "cell_type": "code",
   "execution_count": 8,
   "metadata": {},
   "outputs": [
    {
     "name": "stdout",
     "output_type": "stream",
     "text": [
      "[[300 342]]\n"
     ]
    }
   ],
   "source": [
    "# For [1, 1, 1, 1] * M\n",
    "\n",
    "m = np.array([[1, 1, 1, 1]])\n",
    "\n",
    "A = m.dot(M)\n",
    "\n",
    "print (A)"
   ]
  },
  {
   "cell_type": "markdown",
   "metadata": {},
   "source": [
    ">*Answer:*\n",
    "<br>\n",
    ">[1, 1, 1, 1]M gives the total combined scores per test."
   ]
  },
  {
   "cell_type": "code",
   "execution_count": 9,
   "metadata": {},
   "outputs": [
    {
     "name": "stdout",
     "output_type": "stream",
     "text": [
      "[[75.  85.5]]\n"
     ]
    }
   ],
   "source": [
    "# For 0.25 * [1, 1, 1, 1] * M\n",
    "\n",
    "scaled_M = 0.25 * M\n",
    "\n",
    "m = np.array([[1, 1, 1, 1]])\n",
    "\n",
    "A = m.dot(scaled_M)\n",
    "\n",
    "print (A)"
   ]
  },
  {
   "cell_type": "markdown",
   "metadata": {},
   "source": [
    ">*Answer:*\n",
    "<br>\n",
    ">0.25[1, 1, 1, 1]M gives the average combined score per test."
   ]
  },
  {
   "cell_type": "markdown",
   "metadata": {},
   "source": [
    "***7. Describe the meaning of the matrix product [1, 1, 1, 1]M[[1], [1]].$^{1}$***"
   ]
  },
  {
   "cell_type": "code",
   "execution_count": 10,
   "metadata": {},
   "outputs": [
    {
     "name": "stdout",
     "output_type": "stream",
     "text": [
      "[[642]]\n"
     ]
    }
   ],
   "source": [
    "# [1, 1, 1, 1] * M * [[1], [1]]\n",
    "\n",
    "m = np.array([[1, 1, 1, 1]])\n",
    "\n",
    "A = m.dot(M)\n",
    "\n",
    "m2 = np.array([[1], \n",
    "               [1]])\n",
    "\n",
    "B = A.dot(m2)\n",
    "\n",
    "print(B)"
   ]
  },
  {
   "cell_type": "markdown",
   "metadata": {},
   "source": [
    ">*Answer:*\n",
    "<br>\n",
    ">[1, 1, 1, 1]*M*[[1], [1]] gives the total points for both tests from all four students."
   ]
  },
  {
   "cell_type": "markdown",
   "metadata": {},
   "source": [
    "***8. Use matrix multiplication to find the combined overall average score on\n",
    "both tests.$^{1}$***"
   ]
  },
  {
   "cell_type": "code",
   "execution_count": 11,
   "metadata": {},
   "outputs": [
    {
     "name": "stdout",
     "output_type": "stream",
     "text": [
      "[[80.25]]\n"
     ]
    }
   ],
   "source": [
    "# 0.125 * [1, 1, 1, 1] * M * [[1], [1]]\n",
    "\n",
    "m = np.array([[1, 1, 1, 1]])\n",
    "\n",
    "scaled_m = 0.125 * m\n",
    "\n",
    "A = scaled_m.dot(M)\n",
    "\n",
    "m2 = np.array([[1], \n",
    "               [1]])\n",
    "\n",
    "B = A.dot(m2)\n",
    "\n",
    "print(B)"
   ]
  },
  {
   "cell_type": "markdown",
   "metadata": {},
   "source": [
    ">*Answer:*\n",
    "<br>\n",
    ">0.125[1, 1, 1, 1]M[[1], [1]] gives the combined overall average score on both tests. The combined overall average score is 80.25."
   ]
  },
  {
   "cell_type": "markdown",
   "metadata": {},
   "source": [
    "***9. How could you use matrix multiplication to scale the scores on test 1 by a\n",
    "factor of 1.1?$^{1}$***"
   ]
  },
  {
   "cell_type": "code",
   "execution_count": 12,
   "metadata": {
    "scrolled": false
   },
   "outputs": [
    {
     "name": "stdout",
     "output_type": "stream",
     "text": [
      "[[92.4]\n",
      " [61.6]\n",
      " [85.8]\n",
      " [90.2]]\n"
     ]
    }
   ],
   "source": [
    "# 1.1 * M * [[1], [0]]\n",
    "\n",
    "scaled_M = 1.1 * M\n",
    "\n",
    "m2 = np.array([[1], \n",
    "               [0]])\n",
    "\n",
    "B = scaled_M.dot(m2)\n",
    "\n",
    "print(B)"
   ]
  },
  {
   "cell_type": "markdown",
   "metadata": {},
   "source": [
    ">*Answer:*\n",
    "<br>\n",
    ">1.1*M*[[1], [0]] gives us a scaled (by 1.1) version of the Test 1 scores."
   ]
  },
  {
   "cell_type": "markdown",
   "metadata": {},
   "source": [
    "---------------------------\n",
    "### Sources\n",
    "\n",
    "<br>\n",
    "\n",
    "1. Elementary Linear Algebra, 7th Edition, Ron Larson, (c) 2013"
   ]
  }
 ],
 "metadata": {
  "kernelspec": {
   "display_name": "Python 3",
   "language": "python",
   "name": "python3"
  },
  "language_info": {
   "codemirror_mode": {
    "name": "ipython",
    "version": 3
   },
   "file_extension": ".py",
   "mimetype": "text/x-python",
   "name": "python",
   "nbconvert_exporter": "python",
   "pygments_lexer": "ipython3",
   "version": "3.8.5"
  }
 },
 "nbformat": 4,
 "nbformat_minor": 4
}
